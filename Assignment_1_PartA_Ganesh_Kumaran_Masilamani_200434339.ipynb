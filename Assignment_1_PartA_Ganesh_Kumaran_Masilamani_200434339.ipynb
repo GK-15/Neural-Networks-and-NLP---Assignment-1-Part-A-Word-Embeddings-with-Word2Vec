{
  "nbformat": 4,
  "nbformat_minor": 0,
  "metadata": {
    "colab": {
      "name": "Assignment_1_PartA-Ganesh Kumaran Masilamani-200434339.ipynb",
      "provenance": [],
      "collapsed_sections": []
    },
    "kernelspec": {
      "name": "python3",
      "display_name": "Python 3"
    }
  },
  "cells": [
    {
      "cell_type": "markdown",
      "metadata": {
        "id": "t_yvQBKrD8Se"
      },
      "source": [
        "\r\n",
        "\r\n",
        "## **Asssignment1-PART-A -Skip-gram Model for Word2Vec**\r\n",
        "\r\n"
      ]
    },
    {
      "cell_type": "code",
      "metadata": {
        "colab": {
          "base_uri": "https://localhost:8080/"
        },
        "id": "xn7sWMG-KoBV",
        "outputId": "ba42d8b7-c201-459a-b0c0-27aa17216183"
      },
      "source": [
        "import nltk\r\n",
        "nltk.download('punkt')\r\n",
        "nltk.download('gutenberg')\r\n",
        "from nltk.corpus import gutenberg\r\n",
        "austen = gutenberg.sents('austen-sense.txt') + gutenberg.sents('austen-emma.txt') + gutenberg.sents('austen-persuasion.txt')"
      ],
      "execution_count": 1,
      "outputs": [
        {
          "output_type": "stream",
          "text": [
            "[nltk_data] Downloading package punkt to /root/nltk_data...\n",
            "[nltk_data]   Unzipping tokenizers/punkt.zip.\n",
            "[nltk_data] Downloading package gutenberg to /root/nltk_data...\n",
            "[nltk_data]   Unzipping corpora/gutenberg.zip.\n"
          ],
          "name": "stdout"
        }
      ]
    },
    {
      "cell_type": "markdown",
      "metadata": {
        "id": "PYD16ST1MIOf"
      },
      "source": [
        "**Sanity check:**"
      ]
    },
    {
      "cell_type": "code",
      "metadata": {
        "colab": {
          "base_uri": "https://localhost:8080/"
        },
        "id": "yCH0PmPcL83f",
        "outputId": "06211b6e-584f-4944-ddbf-24398ee6e55f"
      },
      "source": [
        "print(len(austen))"
      ],
      "execution_count": 2,
      "outputs": [
        {
          "output_type": "stream",
          "text": [
            "16498\n"
          ],
          "name": "stdout"
        }
      ]
    },
    {
      "cell_type": "code",
      "metadata": {
        "colab": {
          "base_uri": "https://localhost:8080/"
        },
        "id": "6BVeqAN-wrWi",
        "outputId": "b7e71086-d42b-4f0f-e8fd-425d9c69f39e"
      },
      "source": [
        "austen[0]"
      ],
      "execution_count": 3,
      "outputs": [
        {
          "output_type": "execute_result",
          "data": {
            "text/plain": [
              "['[', 'Sense', 'and', 'Sensibility', 'by', 'Jane', 'Austen', '1811', ']']"
            ]
          },
          "metadata": {
            "tags": []
          },
          "execution_count": 3
        }
      ]
    },
    {
      "cell_type": "markdown",
      "metadata": {
        "id": "4c14vElNvMGX"
      },
      "source": [
        "### **2. Preprocessing the Training Corpus**"
      ]
    },
    {
      "cell_type": "code",
      "metadata": {
        "id": "V2SIxzvwybiv",
        "colab": {
          "base_uri": "https://localhost:8080/"
        },
        "outputId": "821cc82d-5253-4ad8-b0de-7bf8b3b351c9"
      },
      "source": [
        "import re\r\n",
        "from nltk.corpus import stopwords \r\n",
        "nltk.download('stopwords')\r\n",
        "Stop_words = set(stopwords.words('english')) \r\n",
        "#preprocessing the corpus\r\n",
        "def preprocess_corpus(corpus):\r\n",
        "    sent_corpus = []\r\n",
        "    for word in corpus:\r\n",
        "      processed_word = [] \r\n",
        "      for w in word:\r\n",
        "        if len(w.strip()) == 0:\r\n",
        "          continue \r\n",
        "        if w.isalpha():\r\n",
        "          if w not in Stop_words:\r\n",
        "            processed_word.append(w.lower()) \r\n",
        "      sent_corpus.append(processed_word)\r\n",
        "    processed_corpus = [word for word in sent_corpus if len(word)>3]\r\n",
        "    return processed_corpus\r\n",
        "    \r\n",
        "normalized_corpus = preprocess_corpus(austen)\r\n",
        "print('The new length of the preprocessed output',len(normalized_corpus))"
      ],
      "execution_count": 4,
      "outputs": [
        {
          "output_type": "stream",
          "text": [
            "[nltk_data] Downloading package stopwords to /root/nltk_data...\n",
            "[nltk_data]   Package stopwords is already up-to-date!\n",
            "The new length of the preprocessed output 13651\n"
          ],
          "name": "stdout"
        }
      ]
    },
    {
      "cell_type": "markdown",
      "metadata": {
        "id": "TUMqOxZlCTio"
      },
      "source": [
        "**Sanity check:**"
      ]
    },
    {
      "cell_type": "code",
      "metadata": {
        "id": "tJ1qxoq-8Kob",
        "colab": {
          "base_uri": "https://localhost:8080/"
        },
        "outputId": "ea26e6e6-888e-463f-c9d6-2e7a0beda541"
      },
      "source": [
        "sample = austen[:2] + austen[100:102]\r\n",
        "preprocessed_sample = preprocess_corpus(sample)\r\n",
        "print(len(sample), sample)\r\n",
        "print()\r\n",
        "print(len(preprocessed_sample), preprocessed_sample)"
      ],
      "execution_count": 5,
      "outputs": [
        {
          "output_type": "stream",
          "text": [
            "4 [['[', 'Sense', 'and', 'Sensibility', 'by', 'Jane', 'Austen', '1811', ']'], ['CHAPTER', '1'], ['But', ',', 'then', ',', 'if', 'Mrs', '.', 'Dashwood', 'should', 'live', 'fifteen', 'years', 'we', 'shall', 'be', 'completely', 'taken', 'in', '.\"'], ['\"', 'Fifteen', 'years', '!']]\n",
            "\n",
            "2 [['sense', 'sensibility', 'jane', 'austen'], ['but', 'mrs', 'dashwood', 'live', 'fifteen', 'years', 'shall', 'completely', 'taken']]\n"
          ],
          "name": "stdout"
        }
      ]
    },
    {
      "cell_type": "markdown",
      "metadata": {
        "id": "rghchHA66d-V"
      },
      "source": [
        "### **3. Creating the Corpus Vocabulary and Preparing the Data**\r\n",
        "\r\n"
      ]
    },
    {
      "cell_type": "code",
      "metadata": {
        "id": "gmqUdSuU8PyK"
      },
      "source": [
        "word2idx = {}\r\n",
        "idx2word = {}\r\n",
        "sents_as_ids={}\r\n",
        "\r\n",
        "#creating word2idx which is a lookup table and idx2word and combining them\r\n",
        "def prepareData(normalized_corpus):\r\n",
        "  dic = []\r\n",
        "  for word in normalized_corpus:\r\n",
        "    for s in word:\r\n",
        "      dic.append(s)\r\n",
        "  dic = list(set(dic))\r\n",
        "  for s in range(len(dic)):\r\n",
        "      word2idx[dic[s]] = s\r\n",
        "      idx2word[s] = dic[s] \r\n",
        "  return word2idx,idx2word\r\n",
        "word2idx,idx2word = prepareData(normalized_corpus)\r\n",
        "\r\n",
        "#sent_as_ids is represented by a unique integer and each sentence an array of integers\r\n",
        "def prepareSentsAsId(normalized_corpus):\r\n",
        "    sent_ids = []\r\n",
        "    sent_norm = []\r\n",
        "    for word in normalized_corpus:\r\n",
        "      for v in word:\r\n",
        "        sent_norm.append(word2idx[v])\r\n",
        "      sent_ids.append(sent_norm)\r\n",
        "    return sent_ids\r\n",
        "sents_as_ids = prepareSentsAsId(normalized_corpus)"
      ],
      "execution_count": 6,
      "outputs": []
    },
    {
      "cell_type": "markdown",
      "metadata": {
        "id": "DCa7VGc59bCD"
      },
      "source": [
        "**Sanity Check**\r\n",
        "\r\n"
      ]
    },
    {
      "cell_type": "code",
      "metadata": {
        "colab": {
          "base_uri": "https://localhost:8080/"
        },
        "id": "ZJmLifRsswWg",
        "outputId": "c4767b65-c6f6-4e09-c66a-3eefbfed4216"
      },
      "source": [
        "print('Number of unique words:', len(word2idx))\n",
        "print('\\nSample word2idx: ', list(word2idx.items())[:10])\n",
        "print('\\nSample idx2word:', list(idx2word.items())[:10])\n",
        "print('\\nSample sents_as_id:', prepareSentsAsId(preprocessed_sample))"
      ],
      "execution_count": 7,
      "outputs": [
        {
          "output_type": "stream",
          "text": [
            "Number of unique words: 10180\n",
            "\n",
            "Sample word2idx:  [('inference', 0), ('outweigh', 1), ('tray', 2), ('employments', 3), ('dove', 4), ('smartened', 5), ('subsist', 6), ('warmed', 7), ('periods', 8), ('recommend', 9)]\n",
            "\n",
            "Sample idx2word: [(0, 'inference'), (1, 'outweigh'), (2, 'tray'), (3, 'employments'), (4, 'dove'), (5, 'smartened'), (6, 'subsist'), (7, 'warmed'), (8, 'periods'), (9, 'recommend')]\n",
            "\n",
            "Sample sents_as_id: [[7604, 8074, 5802, 379], [8486, 802, 7130, 1523, 2306, 4697, 1974, 3889, 5609]]\n"
          ],
          "name": "stdout"
        }
      ]
    },
    {
      "cell_type": "code",
      "metadata": {
        "id": "WGsp5Lij8qUd"
      },
      "source": [
        "VOCAB_SIZE = len(word2idx) \r\n",
        "EMBED_SIZE = 100 # We are creating 100D embeddings."
      ],
      "execution_count": 8,
      "outputs": []
    },
    {
      "cell_type": "code",
      "metadata": {
        "colab": {
          "base_uri": "https://localhost:8080/"
        },
        "id": "KBs1D2_Fs2ty",
        "outputId": "2521937a-c7be-4502-9f45-6ad92e711813"
      },
      "source": [
        "print('Number of unique words:', len(word2idx))"
      ],
      "execution_count": 9,
      "outputs": [
        {
          "output_type": "stream",
          "text": [
            "Number of unique words: 10180\n"
          ],
          "name": "stdout"
        }
      ]
    },
    {
      "cell_type": "markdown",
      "metadata": {
        "id": "WXhJNdf9TIed"
      },
      "source": [
        "### **4. Generating training instances**"
      ]
    },
    {
      "cell_type": "code",
      "metadata": {
        "id": "e3g0FLzb7ivg"
      },
      "source": [
        "from keras.preprocessing.sequence import skipgrams\r\n",
        "#generate train data using corpus and skipgram\r\n",
        "skip_grams = [skipgrams(v, vocabulary_size=VOCAB_SIZE, window_size=5) for v in sents_as_ids]"
      ],
      "execution_count": 10,
      "outputs": []
    },
    {
      "cell_type": "markdown",
      "metadata": {
        "id": "bEB07yO1xLCF"
      },
      "source": [
        "**Sanity Check**"
      ]
    },
    {
      "cell_type": "code",
      "metadata": {
        "id": "Qa072PMvTvde",
        "colab": {
          "base_uri": "https://localhost:8080/"
        },
        "outputId": "665059a1-187a-4307-e859-925a5989e7b7"
      },
      "source": [
        "pairs, labels = skip_grams[0][0], skip_grams[0][1]\r\n",
        "\r\n",
        "for i in range(len(pairs)):\r\n",
        "         \tprint('({:s} ({:d}), {:s} ({:d})) -> {:d}'.format(\r\n",
        "        \t# the first word and its index\r\n",
        "        \tidx2word[pairs[i][0]], pairs[i][0],\r\n",
        "        \t# the second word and its index\r\n",
        "        \tidx2word[pairs[i][1]], pairs[i][1],\r\n",
        "        \t# the label\r\n",
        "        \tlabels[i]))"
      ],
      "execution_count": 11,
      "outputs": [
        {
          "output_type": "stream",
          "text": [
            "(austen (379), sense (7604)) -> 1\n",
            "(jane (5802), sensibility (8074)) -> 1\n",
            "(sensibility (8074), austen (379)) -> 1\n",
            "(sense (7604), austen (379)) -> 1\n",
            "(austen (379), privations (120)) -> 0\n",
            "(austen (379), horses (7099)) -> 0\n",
            "(sense (7604), wisest (5181)) -> 0\n",
            "(austen (379), gallop (690)) -> 0\n",
            "(austen (379), jane (5802)) -> 1\n",
            "(sense (7604), jane (5802)) -> 1\n",
            "(sensibility (8074), fragments (7557)) -> 0\n",
            "(jane (5802), complains (6117)) -> 0\n",
            "(sensibility (8074), compass (4574)) -> 0\n",
            "(jane (5802), goose (7024)) -> 0\n",
            "(sensibility (8074), sense (7604)) -> 1\n",
            "(sense (7604), begun (705)) -> 0\n",
            "(austen (379), sensibility (8074)) -> 1\n",
            "(jane (5802), distrust (9943)) -> 0\n",
            "(sensibility (8074), jane (5802)) -> 1\n",
            "(sense (7604), sensibility (8074)) -> 1\n",
            "(sense (7604), misconceived (9494)) -> 0\n",
            "(jane (5802), austen (379)) -> 1\n",
            "(sensibility (8074), alighted (3227)) -> 0\n",
            "(jane (5802), sense (7604)) -> 1\n"
          ],
          "name": "stdout"
        }
      ]
    },
    {
      "cell_type": "markdown",
      "metadata": {
        "id": "uMQJAolZWVLx"
      },
      "source": [
        "### **5. Building the Skip-gram Neural Network Architecture**\r\n"
      ]
    },
    {
      "cell_type": "code",
      "metadata": {
        "id": "fi0JmuY-Tlsp"
      },
      "source": [
        "from keras.layers import Dot, Input\r\n",
        "from keras.layers.core import Dense, Reshape\r\n",
        "from keras.layers.embeddings import Embedding\r\n",
        "from keras.models import Model\r\n",
        "from keras.utils import plot_model"
      ],
      "execution_count": 12,
      "outputs": []
    },
    {
      "cell_type": "markdown",
      "metadata": {
        "id": "22d8UIg-cBOc"
      },
      "source": [
        "\r\n",
        "\r\n",
        "####**A. The first step is to initialize and transform the first input using the following lines of code:**"
      ]
    },
    {
      "cell_type": "code",
      "metadata": {
        "id": "ggqykF7WUyGP"
      },
      "source": [
        "# The input is an array of target indices e.g. [2, 45, 7, 23,...9]\r\n",
        "target_word = Input((1,), dtype='int32')\r\n",
        "\r\n",
        "\r\n",
        "# feed the words into the model using the Keras <Embedding> layer. This is the hidden layer \r\n",
        "# from whose weights we will get the word embeddings.\r\n",
        "target_embedding = Embedding(VOCAB_SIZE, EMBED_SIZE, name='target_embed_layer',\r\n",
        "                        \tembeddings_initializer='glorot_uniform',\r\n",
        "                         \tinput_length=1)(target_word)\r\n",
        "\r\n",
        "\r\n",
        "# at this point, the input would of the shape (num_inputs x 1 x embed_size) and has to be flattened \r\n",
        "# or reshaped into a (num_inputs x embed_size) tensor.\r\n",
        "target_input = Reshape((EMBED_SIZE, ))(target_embedding)"
      ],
      "execution_count": 13,
      "outputs": []
    },
    {
      "cell_type": "markdown",
      "metadata": {
        "id": "GXn_SVjHckwL"
      },
      "source": [
        "####**B. Write similar code for the ‘context_word’ input.**"
      ]
    },
    {
      "cell_type": "code",
      "metadata": {
        "id": "vkCyRztYcMsp"
      },
      "source": [
        "# your code for the context_word goes here\r\n",
        "# The input is an array of target indices e.g. [2, 45, 7, 23,...9]\r\n",
        "context_word = Input((1,), dtype='int32')\r\n",
        "\r\n",
        "# feed the words into the model using the Keras <Embedding> layer. This is the hidden layer \r\n",
        "# from whose weights we will get the word embeddings.\r\n",
        "context_embedding = Embedding(VOCAB_SIZE, EMBED_SIZE, name='context_embed_layer',\r\n",
        "                        \tembeddings_initializer='glorot_uniform',\r\n",
        "                         \tinput_length=1)(context_word)\r\n",
        "\r\n",
        "# at this point, the input would of the shape (num_inputs x 1 x embed_size) and has to be flattened \r\n",
        "# or reshaped into a (num_inputs x embed_size) tensor.\r\n",
        "context_input = Reshape((EMBED_SIZE, ))(context_embedding)"
      ],
      "execution_count": 14,
      "outputs": []
    },
    {
      "cell_type": "markdown",
      "metadata": {
        "id": "btNWVWRqdBJV"
      },
      "source": [
        "####**C. Merge the inputs.**\r\n"
      ]
    },
    {
      "cell_type": "code",
      "metadata": {
        "id": "WL0_IgA0cYBx"
      },
      "source": [
        "#input layer\n",
        "merged_inputs = Dot(axes=-1, normalize=False)([target_input, context_input])"
      ],
      "execution_count": 15,
      "outputs": []
    },
    {
      "cell_type": "markdown",
      "metadata": {
        "id": "vQEsxQ6We1Ob"
      },
      "source": [
        "####**D. The Output Layer**"
      ]
    },
    {
      "cell_type": "code",
      "metadata": {
        "id": "uAUxsadqcj6Q"
      },
      "source": [
        "#dense layer \r\n",
        "output = Dense(1,activation='sigmoid')(merged_inputs)"
      ],
      "execution_count": 16,
      "outputs": []
    },
    {
      "cell_type": "markdown",
      "metadata": {
        "id": "yQk1Yj8wfXrF"
      },
      "source": [
        "####**E. Initialize the model:**"
      ]
    },
    {
      "cell_type": "code",
      "metadata": {
        "id": "YHRICxY7cdBB"
      },
      "source": [
        "#label is the output of step D.\r\n",
        "#organise into a model\r\n",
        "model = Model(inputs=[target_word, context_word], outputs=[output])  "
      ],
      "execution_count": 17,
      "outputs": []
    },
    {
      "cell_type": "markdown",
      "metadata": {
        "id": "DdbRI0TGVZIt"
      },
      "source": [
        "####**F. Compile the model using the <model.compile> command.** Use Loss = ‘mean_squared_error’, optimizer = ‘rmsprop’."
      ]
    },
    {
      "cell_type": "code",
      "metadata": {
        "id": "5LtWvavefueu"
      },
      "source": [
        "#compiling the model\n",
        "model.compile(loss='mean_squared_error', optimizer='rmsprop')"
      ],
      "execution_count": 18,
      "outputs": []
    },
    {
      "cell_type": "markdown",
      "metadata": {
        "id": "GC7IShG_fczC"
      },
      "source": [
        "**Sanity check:**\r\n",
        "\r\n",
        "Visualize the model and the model summary by running the following lines of code. \r\n",
        "view the model summary"
      ]
    },
    {
      "cell_type": "code",
      "metadata": {
        "colab": {
          "base_uri": "https://localhost:8080/"
        },
        "id": "e0ki6JDkgJNA",
        "outputId": "91f1abd0-e434-45f6-aff4-9d08092bc68d"
      },
      "source": [
        "model.summary()"
      ],
      "execution_count": 19,
      "outputs": [
        {
          "output_type": "stream",
          "text": [
            "Model: \"model\"\n",
            "__________________________________________________________________________________________________\n",
            "Layer (type)                    Output Shape         Param #     Connected to                     \n",
            "==================================================================================================\n",
            "input_1 (InputLayer)            [(None, 1)]          0                                            \n",
            "__________________________________________________________________________________________________\n",
            "input_2 (InputLayer)            [(None, 1)]          0                                            \n",
            "__________________________________________________________________________________________________\n",
            "target_embed_layer (Embedding)  (None, 1, 100)       1018000     input_1[0][0]                    \n",
            "__________________________________________________________________________________________________\n",
            "context_embed_layer (Embedding) (None, 1, 100)       1018000     input_2[0][0]                    \n",
            "__________________________________________________________________________________________________\n",
            "reshape (Reshape)               (None, 100)          0           target_embed_layer[0][0]         \n",
            "__________________________________________________________________________________________________\n",
            "reshape_1 (Reshape)             (None, 100)          0           context_embed_layer[0][0]        \n",
            "__________________________________________________________________________________________________\n",
            "dot (Dot)                       (None, 1)            0           reshape[0][0]                    \n",
            "                                                                 reshape_1[0][0]                  \n",
            "__________________________________________________________________________________________________\n",
            "dense (Dense)                   (None, 1)            2           dot[0][0]                        \n",
            "==================================================================================================\n",
            "Total params: 2,036,002\n",
            "Trainable params: 2,036,002\n",
            "Non-trainable params: 0\n",
            "__________________________________________________________________________________________________\n"
          ],
          "name": "stdout"
        }
      ]
    },
    {
      "cell_type": "markdown",
      "metadata": {
        "id": "3VVPnyFhgVr9"
      },
      "source": [
        "####**G. Plot the model using ```vis utils```.**"
      ]
    },
    {
      "cell_type": "code",
      "metadata": {
        "colab": {
          "base_uri": "https://localhost:8080/",
          "height": 450
        },
        "id": "vvfO-ensggr4",
        "outputId": "d444ba10-c3d7-47bb-8e94-1bc09ab1a3cf"
      },
      "source": [
        "from IPython.display import SVG\r\n",
        "from keras.utils import vis_utils\r\n",
        "SVG(vis_utils.model_to_dot(model, show_shapes=True, show_layer_names=True, dpi=60).create(prog='dot', format='svg'))  \r\n"
      ],
      "execution_count": 20,
      "outputs": [
        {
          "output_type": "execute_result",
          "data": {
            "text/plain": [
              "<IPython.core.display.SVG object>"
            ],
            "image/svg+xml": "<svg height=\"322pt\" viewBox=\"0.00 0.00 765.50 387.00\" width=\"638pt\" xmlns=\"http://www.w3.org/2000/svg\" xmlns:xlink=\"http://www.w3.org/1999/xlink\">\n<g class=\"graph\" id=\"graph0\" transform=\"scale(.8333 .8333) rotate(0) translate(4 383)\">\n<title>G</title>\n<polygon fill=\"#ffffff\" points=\"-4,4 -4,-383 761.5,-383 761.5,4 -4,4\" stroke=\"transparent\"/>\n<!-- 140086711163472 -->\n<g class=\"node\" id=\"node1\">\n<title>140086711163472</title>\n<polygon fill=\"none\" points=\"46,-332.5 46,-378.5 318,-378.5 318,-332.5 46,-332.5\" stroke=\"#000000\"/>\n<text fill=\"#000000\" font-family=\"Times,serif\" font-size=\"14.00\" text-anchor=\"middle\" x=\"112.5\" y=\"-351.8\">input_1: InputLayer</text>\n<polyline fill=\"none\" points=\"179,-332.5 179,-378.5 \" stroke=\"#000000\"/>\n<text fill=\"#000000\" font-family=\"Times,serif\" font-size=\"14.00\" text-anchor=\"middle\" x=\"208\" y=\"-363.3\">input:</text>\n<polyline fill=\"none\" points=\"179,-355.5 237,-355.5 \" stroke=\"#000000\"/>\n<text fill=\"#000000\" font-family=\"Times,serif\" font-size=\"14.00\" text-anchor=\"middle\" x=\"208\" y=\"-340.3\">output:</text>\n<polyline fill=\"none\" points=\"237,-332.5 237,-378.5 \" stroke=\"#000000\"/>\n<text fill=\"#000000\" font-family=\"Times,serif\" font-size=\"14.00\" text-anchor=\"middle\" x=\"277.5\" y=\"-363.3\">[(None, 1)]</text>\n<polyline fill=\"none\" points=\"237,-355.5 318,-355.5 \" stroke=\"#000000\"/>\n<text fill=\"#000000\" font-family=\"Times,serif\" font-size=\"14.00\" text-anchor=\"middle\" x=\"277.5\" y=\"-340.3\">[(None, 1)]</text>\n</g>\n<!-- 140086711163920 -->\n<g class=\"node\" id=\"node3\">\n<title>140086711163920</title>\n<polygon fill=\"none\" points=\"0,-249.5 0,-295.5 364,-295.5 364,-249.5 0,-249.5\" stroke=\"#000000\"/>\n<text fill=\"#000000\" font-family=\"Times,serif\" font-size=\"14.00\" text-anchor=\"middle\" x=\"102\" y=\"-268.8\">target_embed_layer: Embedding</text>\n<polyline fill=\"none\" points=\"204,-249.5 204,-295.5 \" stroke=\"#000000\"/>\n<text fill=\"#000000\" font-family=\"Times,serif\" font-size=\"14.00\" text-anchor=\"middle\" x=\"233\" y=\"-280.3\">input:</text>\n<polyline fill=\"none\" points=\"204,-272.5 262,-272.5 \" stroke=\"#000000\"/>\n<text fill=\"#000000\" font-family=\"Times,serif\" font-size=\"14.00\" text-anchor=\"middle\" x=\"233\" y=\"-257.3\">output:</text>\n<polyline fill=\"none\" points=\"262,-249.5 262,-295.5 \" stroke=\"#000000\"/>\n<text fill=\"#000000\" font-family=\"Times,serif\" font-size=\"14.00\" text-anchor=\"middle\" x=\"313\" y=\"-280.3\">(None, 1)</text>\n<polyline fill=\"none\" points=\"262,-272.5 364,-272.5 \" stroke=\"#000000\"/>\n<text fill=\"#000000\" font-family=\"Times,serif\" font-size=\"14.00\" text-anchor=\"middle\" x=\"313\" y=\"-257.3\">(None, 1, 100)</text>\n</g>\n<!-- 140086711163472&#45;&gt;140086711163920 -->\n<g class=\"edge\" id=\"edge1\">\n<title>140086711163472-&gt;140086711163920</title>\n<path d=\"M182,-332.3799C182,-324.1745 182,-314.7679 182,-305.8786\" fill=\"none\" stroke=\"#000000\"/>\n<polygon fill=\"#000000\" points=\"185.5001,-305.784 182,-295.784 178.5001,-305.784 185.5001,-305.784\" stroke=\"#000000\"/>\n</g>\n<!-- 140086312776208 -->\n<g class=\"node\" id=\"node2\">\n<title>140086312776208</title>\n<polygon fill=\"none\" points=\"434,-332.5 434,-378.5 706,-378.5 706,-332.5 434,-332.5\" stroke=\"#000000\"/>\n<text fill=\"#000000\" font-family=\"Times,serif\" font-size=\"14.00\" text-anchor=\"middle\" x=\"500.5\" y=\"-351.8\">input_2: InputLayer</text>\n<polyline fill=\"none\" points=\"567,-332.5 567,-378.5 \" stroke=\"#000000\"/>\n<text fill=\"#000000\" font-family=\"Times,serif\" font-size=\"14.00\" text-anchor=\"middle\" x=\"596\" y=\"-363.3\">input:</text>\n<polyline fill=\"none\" points=\"567,-355.5 625,-355.5 \" stroke=\"#000000\"/>\n<text fill=\"#000000\" font-family=\"Times,serif\" font-size=\"14.00\" text-anchor=\"middle\" x=\"596\" y=\"-340.3\">output:</text>\n<polyline fill=\"none\" points=\"625,-332.5 625,-378.5 \" stroke=\"#000000\"/>\n<text fill=\"#000000\" font-family=\"Times,serif\" font-size=\"14.00\" text-anchor=\"middle\" x=\"665.5\" y=\"-363.3\">[(None, 1)]</text>\n<polyline fill=\"none\" points=\"625,-355.5 706,-355.5 \" stroke=\"#000000\"/>\n<text fill=\"#000000\" font-family=\"Times,serif\" font-size=\"14.00\" text-anchor=\"middle\" x=\"665.5\" y=\"-340.3\">[(None, 1)]</text>\n</g>\n<!-- 140086312776400 -->\n<g class=\"node\" id=\"node4\">\n<title>140086312776400</title>\n<polygon fill=\"none\" points=\"382.5,-249.5 382.5,-295.5 757.5,-295.5 757.5,-249.5 382.5,-249.5\" stroke=\"#000000\"/>\n<text fill=\"#000000\" font-family=\"Times,serif\" font-size=\"14.00\" text-anchor=\"middle\" x=\"490\" y=\"-268.8\">context_embed_layer: Embedding</text>\n<polyline fill=\"none\" points=\"597.5,-249.5 597.5,-295.5 \" stroke=\"#000000\"/>\n<text fill=\"#000000\" font-family=\"Times,serif\" font-size=\"14.00\" text-anchor=\"middle\" x=\"626.5\" y=\"-280.3\">input:</text>\n<polyline fill=\"none\" points=\"597.5,-272.5 655.5,-272.5 \" stroke=\"#000000\"/>\n<text fill=\"#000000\" font-family=\"Times,serif\" font-size=\"14.00\" text-anchor=\"middle\" x=\"626.5\" y=\"-257.3\">output:</text>\n<polyline fill=\"none\" points=\"655.5,-249.5 655.5,-295.5 \" stroke=\"#000000\"/>\n<text fill=\"#000000\" font-family=\"Times,serif\" font-size=\"14.00\" text-anchor=\"middle\" x=\"706.5\" y=\"-280.3\">(None, 1)</text>\n<polyline fill=\"none\" points=\"655.5,-272.5 757.5,-272.5 \" stroke=\"#000000\"/>\n<text fill=\"#000000\" font-family=\"Times,serif\" font-size=\"14.00\" text-anchor=\"middle\" x=\"706.5\" y=\"-257.3\">(None, 1, 100)</text>\n</g>\n<!-- 140086312776208&#45;&gt;140086312776400 -->\n<g class=\"edge\" id=\"edge2\">\n<title>140086312776208-&gt;140086312776400</title>\n<path d=\"M570,-332.3799C570,-324.1745 570,-314.7679 570,-305.8786\" fill=\"none\" stroke=\"#000000\"/>\n<polygon fill=\"#000000\" points=\"573.5001,-305.784 570,-295.784 566.5001,-305.784 573.5001,-305.784\" stroke=\"#000000\"/>\n</g>\n<!-- 140086694241744 -->\n<g class=\"node\" id=\"node5\">\n<title>140086694241744</title>\n<polygon fill=\"none\" points=\"87.5,-166.5 87.5,-212.5 362.5,-212.5 362.5,-166.5 87.5,-166.5\" stroke=\"#000000\"/>\n<text fill=\"#000000\" font-family=\"Times,serif\" font-size=\"14.00\" text-anchor=\"middle\" x=\"145\" y=\"-185.8\">reshape: Reshape</text>\n<polyline fill=\"none\" points=\"202.5,-166.5 202.5,-212.5 \" stroke=\"#000000\"/>\n<text fill=\"#000000\" font-family=\"Times,serif\" font-size=\"14.00\" text-anchor=\"middle\" x=\"231.5\" y=\"-197.3\">input:</text>\n<polyline fill=\"none\" points=\"202.5,-189.5 260.5,-189.5 \" stroke=\"#000000\"/>\n<text fill=\"#000000\" font-family=\"Times,serif\" font-size=\"14.00\" text-anchor=\"middle\" x=\"231.5\" y=\"-174.3\">output:</text>\n<polyline fill=\"none\" points=\"260.5,-166.5 260.5,-212.5 \" stroke=\"#000000\"/>\n<text fill=\"#000000\" font-family=\"Times,serif\" font-size=\"14.00\" text-anchor=\"middle\" x=\"311.5\" y=\"-197.3\">(None, 1, 100)</text>\n<polyline fill=\"none\" points=\"260.5,-189.5 362.5,-189.5 \" stroke=\"#000000\"/>\n<text fill=\"#000000\" font-family=\"Times,serif\" font-size=\"14.00\" text-anchor=\"middle\" x=\"311.5\" y=\"-174.3\">(None, 100)</text>\n</g>\n<!-- 140086711163920&#45;&gt;140086694241744 -->\n<g class=\"edge\" id=\"edge3\">\n<title>140086711163920-&gt;140086694241744</title>\n<path d=\"M193.9779,-249.3799C198.4137,-240.8178 203.5271,-230.9477 208.3066,-221.7222\" fill=\"none\" stroke=\"#000000\"/>\n<polygon fill=\"#000000\" points=\"211.4448,-223.2732 212.9372,-212.784 205.2294,-220.0531 211.4448,-223.2732\" stroke=\"#000000\"/>\n</g>\n<!-- 140087539590928 -->\n<g class=\"node\" id=\"node6\">\n<title>140087539590928</title>\n<polygon fill=\"none\" points=\"403,-166.5 403,-212.5 693,-212.5 693,-166.5 403,-166.5\" stroke=\"#000000\"/>\n<text fill=\"#000000\" font-family=\"Times,serif\" font-size=\"14.00\" text-anchor=\"middle\" x=\"468\" y=\"-185.8\">reshape_1: Reshape</text>\n<polyline fill=\"none\" points=\"533,-166.5 533,-212.5 \" stroke=\"#000000\"/>\n<text fill=\"#000000\" font-family=\"Times,serif\" font-size=\"14.00\" text-anchor=\"middle\" x=\"562\" y=\"-197.3\">input:</text>\n<polyline fill=\"none\" points=\"533,-189.5 591,-189.5 \" stroke=\"#000000\"/>\n<text fill=\"#000000\" font-family=\"Times,serif\" font-size=\"14.00\" text-anchor=\"middle\" x=\"562\" y=\"-174.3\">output:</text>\n<polyline fill=\"none\" points=\"591,-166.5 591,-212.5 \" stroke=\"#000000\"/>\n<text fill=\"#000000\" font-family=\"Times,serif\" font-size=\"14.00\" text-anchor=\"middle\" x=\"642\" y=\"-197.3\">(None, 1, 100)</text>\n<polyline fill=\"none\" points=\"591,-189.5 693,-189.5 \" stroke=\"#000000\"/>\n<text fill=\"#000000\" font-family=\"Times,serif\" font-size=\"14.00\" text-anchor=\"middle\" x=\"642\" y=\"-174.3\">(None, 100)</text>\n</g>\n<!-- 140086312776400&#45;&gt;140087539590928 -->\n<g class=\"edge\" id=\"edge4\">\n<title>140086312776400-&gt;140087539590928</title>\n<path d=\"M563.8718,-249.3799C561.6732,-241.0854 559.1493,-231.5633 556.7706,-222.5889\" fill=\"none\" stroke=\"#000000\"/>\n<polygon fill=\"#000000\" points=\"560.117,-221.5534 554.1717,-212.784 553.3507,-223.347 560.117,-221.5534\" stroke=\"#000000\"/>\n</g>\n<!-- 140086312787600 -->\n<g class=\"node\" id=\"node7\">\n<title>140086312787600</title>\n<polygon fill=\"none\" points=\"226.5,-83.5 226.5,-129.5 523.5,-129.5 523.5,-83.5 226.5,-83.5\" stroke=\"#000000\"/>\n<text fill=\"#000000\" font-family=\"Times,serif\" font-size=\"14.00\" text-anchor=\"middle\" x=\"259\" y=\"-102.8\">dot: Dot</text>\n<polyline fill=\"none\" points=\"291.5,-83.5 291.5,-129.5 \" stroke=\"#000000\"/>\n<text fill=\"#000000\" font-family=\"Times,serif\" font-size=\"14.00\" text-anchor=\"middle\" x=\"320.5\" y=\"-114.3\">input:</text>\n<polyline fill=\"none\" points=\"291.5,-106.5 349.5,-106.5 \" stroke=\"#000000\"/>\n<text fill=\"#000000\" font-family=\"Times,serif\" font-size=\"14.00\" text-anchor=\"middle\" x=\"320.5\" y=\"-91.3\">output:</text>\n<polyline fill=\"none\" points=\"349.5,-83.5 349.5,-129.5 \" stroke=\"#000000\"/>\n<text fill=\"#000000\" font-family=\"Times,serif\" font-size=\"14.00\" text-anchor=\"middle\" x=\"436.5\" y=\"-114.3\">[(None, 100), (None, 100)]</text>\n<polyline fill=\"none\" points=\"349.5,-106.5 523.5,-106.5 \" stroke=\"#000000\"/>\n<text fill=\"#000000\" font-family=\"Times,serif\" font-size=\"14.00\" text-anchor=\"middle\" x=\"436.5\" y=\"-91.3\">(None, 1)</text>\n</g>\n<!-- 140086694241744&#45;&gt;140086312787600 -->\n<g class=\"edge\" id=\"edge5\">\n<title>140086694241744-&gt;140086312787600</title>\n<path d=\"M266.7834,-166.3799C284.5881,-156.5279 305.5226,-144.9442 324.2107,-134.6034\" fill=\"none\" stroke=\"#000000\"/>\n<polygon fill=\"#000000\" points=\"326.1256,-137.544 333.1808,-129.6399 322.7364,-131.4191 326.1256,-137.544\" stroke=\"#000000\"/>\n</g>\n<!-- 140087539590928&#45;&gt;140086312787600 -->\n<g class=\"edge\" id=\"edge6\">\n<title>140087539590928-&gt;140086312787600</title>\n<path d=\"M499.8099,-166.3799C478.9017,-156.3488 454.2514,-144.5224 432.404,-134.0406\" fill=\"none\" stroke=\"#000000\"/>\n<polygon fill=\"#000000\" points=\"433.7615,-130.81 423.2315,-129.6399 430.7335,-137.1212 433.7615,-130.81\" stroke=\"#000000\"/>\n</g>\n<!-- 140086312854672 -->\n<g class=\"node\" id=\"node8\">\n<title>140086312854672</title>\n<polygon fill=\"none\" points=\"264,-.5 264,-46.5 486,-46.5 486,-.5 264,-.5\" stroke=\"#000000\"/>\n<text fill=\"#000000\" font-family=\"Times,serif\" font-size=\"14.00\" text-anchor=\"middle\" x=\"310\" y=\"-19.8\">dense: Dense</text>\n<polyline fill=\"none\" points=\"356,-.5 356,-46.5 \" stroke=\"#000000\"/>\n<text fill=\"#000000\" font-family=\"Times,serif\" font-size=\"14.00\" text-anchor=\"middle\" x=\"385\" y=\"-31.3\">input:</text>\n<polyline fill=\"none\" points=\"356,-23.5 414,-23.5 \" stroke=\"#000000\"/>\n<text fill=\"#000000\" font-family=\"Times,serif\" font-size=\"14.00\" text-anchor=\"middle\" x=\"385\" y=\"-8.3\">output:</text>\n<polyline fill=\"none\" points=\"414,-.5 414,-46.5 \" stroke=\"#000000\"/>\n<text fill=\"#000000\" font-family=\"Times,serif\" font-size=\"14.00\" text-anchor=\"middle\" x=\"450\" y=\"-31.3\">(None, 1)</text>\n<polyline fill=\"none\" points=\"414,-23.5 486,-23.5 \" stroke=\"#000000\"/>\n<text fill=\"#000000\" font-family=\"Times,serif\" font-size=\"14.00\" text-anchor=\"middle\" x=\"450\" y=\"-8.3\">(None, 1)</text>\n</g>\n<!-- 140086312787600&#45;&gt;140086312854672 -->\n<g class=\"edge\" id=\"edge7\">\n<title>140086312787600-&gt;140086312854672</title>\n<path d=\"M375,-83.3799C375,-75.1745 375,-65.7679 375,-56.8786\" fill=\"none\" stroke=\"#000000\"/>\n<polygon fill=\"#000000\" points=\"378.5001,-56.784 375,-46.784 371.5001,-56.784 378.5001,-56.784\" stroke=\"#000000\"/>\n</g>\n</g>\n</svg>"
          },
          "metadata": {
            "tags": []
          },
          "execution_count": 20
        }
      ]
    },
    {
      "cell_type": "markdown",
      "metadata": {
        "id": "zbOcZD6igpxy"
      },
      "source": [
        "###**6.Training the Model**"
      ]
    },
    {
      "cell_type": "code",
      "metadata": {
        "colab": {
          "base_uri": "https://localhost:8080/"
        },
        "id": "RmQN4r52gmLR",
        "outputId": "4c3fca86-46e7-49b5-fb44-ce45f7b95c73"
      },
      "source": [
        "import numpy as np\r\n",
        "\r\n",
        "NUM_EPOCHS = 5\r\n",
        "\r\n",
        "for epoch in range(1, NUM_EPOCHS+1):\r\n",
        "    epoch_loss = 0\r\n",
        "    for i, sent_examples in enumerate(skip_grams):\r\n",
        "        target_wds = np.array([pair[0] for pair in sent_examples[0]], dtype='int32')\r\n",
        "        context_wds = np.array([pair[1] for pair in sent_examples[0]], dtype='int32')\r\n",
        "        labels = np.array(sent_examples[1], dtype='int32')\r\n",
        "        X = [target_wds, context_wds]\r\n",
        "        Y = labels\r\n",
        "        if i % 5000 == 0: \r\n",
        "        \tprint('Processed %d sentences' %i)\r\n",
        "        epoch_loss += model.train_on_batch(X, Y)\r\n",
        "    print('Processed all %d sentences' %i)\r\n",
        "    print('Epoch:', epoch, 'Loss:', epoch_loss, '\\n')\r\n",
        "\r\n"
      ],
      "execution_count": 21,
      "outputs": [
        {
          "output_type": "stream",
          "text": [
            "Processed 0 sentences\n",
            "Processed 5000 sentences\n",
            "Processed 10000 sentences\n",
            "Processed all 13650 sentences\n",
            "Epoch: 1 Loss: 2311.536465926096 \n",
            "\n",
            "Processed 0 sentences\n",
            "Processed 5000 sentences\n",
            "Processed 10000 sentences\n",
            "Processed all 13650 sentences\n",
            "Epoch: 2 Loss: 1876.237628273666 \n",
            "\n",
            "Processed 0 sentences\n",
            "Processed 5000 sentences\n",
            "Processed 10000 sentences\n",
            "Processed all 13650 sentences\n",
            "Epoch: 3 Loss: 1799.8804895980284 \n",
            "\n",
            "Processed 0 sentences\n",
            "Processed 5000 sentences\n",
            "Processed 10000 sentences\n",
            "Processed all 13650 sentences\n",
            "Epoch: 4 Loss: 1769.3616108330898 \n",
            "\n",
            "Processed 0 sentences\n",
            "Processed 5000 sentences\n",
            "Processed 10000 sentences\n",
            "Processed all 13650 sentences\n",
            "Epoch: 5 Loss: 1768.3224783160258 \n",
            "\n"
          ],
          "name": "stdout"
        }
      ]
    },
    {
      "cell_type": "markdown",
      "metadata": {
        "id": "Sj6BiOKfiI7R"
      },
      "source": [
        "In the introduction, we outlined two approaches to training using the skipgram architecture. In this tutorial, we implemented the negative sampling training approach. While waiting for the training to complete, read this article http://mccormickml.com/2016/04/19/word2vec-tutorial-the-skip-gram-model/. It contains the skipgram model with softmax training. \r\n",
        "\r\n",
        "After reading the article, answer the following questions: "
      ]
    },
    {
      "cell_type": "markdown",
      "metadata": {
        "id": "TkGao_S3zaOJ"
      },
      "source": [
        "**Question 1:** \n",
        "\n",
        "What would the inputs and outputs to the model be?\n",
        "\n",
        "**ANSWER:**\n",
        "*\tInput will be context and the target\n",
        "*\tOutput will be the label\n",
        "---------------\n",
        "**Question 2:** \n",
        "\n",
        "How would you use the Keras framework to create this architecture?\n",
        "\n",
        "**ANSWER:**\n",
        "*\tKeras is a simple library for constructing and compiling the Neural networks.\n",
        "*\tIt is the high level framework\n",
        "*\tIt is used for creating a neural layers (such as., input layer, hidden layers, dense layer etc) which is combined to build a model.\n",
        "----------------\n",
        "**Question 3:** \n",
        "\n",
        "What are the reasons this training approach is considered inefficient?\n",
        "\n",
        "**ANSWER:**\n",
        "*\tWord sense is not observed separately.\n",
        "*\tAll words are represented in a single vector.\n"
      ]
    },
    {
      "cell_type": "markdown",
      "metadata": {
        "id": "Bwz_8kTZ6UVF"
      },
      "source": [
        "###**7. Getting the Word Embeddings**\r\n",
        "\r\n"
      ]
    },
    {
      "cell_type": "code",
      "metadata": {
        "colab": {
          "base_uri": "https://localhost:8080/"
        },
        "id": "kiQTO6VgcN90",
        "outputId": "c8b236ae-9792-4c71-e06e-28d90c1a98ab"
      },
      "source": [
        "word_embeddings = model.get_layer('target_embed_layer').get_weights()[0] \r\n",
        "\r\n",
        "#should return (VOCAB_SIZE, EMBED_SIZE)\r\n",
        "print(word_embeddings.shape)"
      ],
      "execution_count": 22,
      "outputs": [
        {
          "output_type": "stream",
          "text": [
            "(10180, 100)\n"
          ],
          "name": "stdout"
        }
      ]
    },
    {
      "cell_type": "code",
      "metadata": {
        "colab": {
          "base_uri": "https://localhost:8080/"
        },
        "id": "HffZwwLUcXb1",
        "outputId": "4c30dd72-c3ca-4aff-b303-61efdb65ea6b"
      },
      "source": [
        "from pandas import DataFrame\r\n",
        "\r\n",
        "print(DataFrame(word_embeddings, index=idx2word.values()).head(10))"
      ],
      "execution_count": 29,
      "outputs": [
        {
          "output_type": "stream",
          "text": [
            "                   0         1         2   ...        97        98        99\n",
            "inference   -0.003513 -0.015825 -0.010127  ... -0.018737 -0.023041  0.002472\n",
            "outweigh    -0.008032  0.028603 -0.004436  ... -0.028299 -0.003081 -0.019006\n",
            "tray         0.001457 -0.018383 -0.002730  ... -0.010094 -0.008789 -0.008467\n",
            "employments -0.010811 -0.007341 -0.036918  ... -0.003080  0.024970  0.019556\n",
            "dove        -0.004949  0.016954  0.009763  ...  0.013511  0.029532  0.004282\n",
            "smartened    0.017874  0.013559  0.000434  ...  0.008364  0.007070  0.000246\n",
            "subsist      0.006971  0.031437 -0.030624  ... -0.024885  0.008564 -0.018796\n",
            "warmed      -0.002066 -0.019759  0.013191  ...  0.003503 -0.000726  0.001290\n",
            "periods      0.002030  0.012040  0.010387  ...  0.005154  0.016171 -0.011502\n",
            "recommend    0.016469 -0.032057 -0.025717  ... -0.008441  0.001191 -0.010599\n",
            "\n",
            "[10 rows x 100 columns]\n"
          ],
          "name": "stdout"
        }
      ]
    },
    {
      "cell_type": "markdown",
      "metadata": {
        "id": "-Ki8NtrS7ezr"
      },
      "source": [
        "###**8.  Measuring Similarity Between Word Pairs**\r\n",
        "\r\n"
      ]
    },
    {
      "cell_type": "code",
      "metadata": {
        "id": "dbb-uoe666oV",
        "colab": {
          "base_uri": "https://localhost:8080/"
        },
        "outputId": "4656fdfd-e1a7-411f-f0d0-c59364c0d091"
      },
      "source": [
        "from sklearn.metrics.pairwise import cosine_similarity\r\n",
        "\r\n",
        "similarity_matrix = cosine_similarity(word_embeddings)\r\n",
        "\r\n",
        "# should print(VOCAB_SIZE, VOCAB_SIZE)\r\n",
        "print(similarity_matrix.shape)   "
      ],
      "execution_count": 30,
      "outputs": [
        {
          "output_type": "stream",
          "text": [
            "(10180, 10180)\n"
          ],
          "name": "stdout"
        }
      ]
    },
    {
      "cell_type": "markdown",
      "metadata": {
        "id": "k0fyfgvB90G5"
      },
      "source": [
        "###**9. Exploring and Visualizing your Word Embeddings using t-SNE**\r\n",
        "\r\n",
        "**A.\tGet the most similar words to the search items in the list below**\r\n",
        "\r\n",
        "search_terms = ['family', 'love', 'equality', 'wisdom', 'justice',  'humour', 'rejection']\r\n",
        "\r\n",
        "\r\n",
        "**Sanity check:**"
      ]
    },
    {
      "cell_type": "code",
      "metadata": {
        "colab": {
          "base_uri": "https://localhost:8080/"
        },
        "id": "hWbSfqYschRs",
        "outputId": "715edf12-559b-4690-d0e7-62408127e7bd"
      },
      "source": [
        "search_terms = ['family', 'love', 'equality', 'wisdom', 'justice', 'humour', 'rejection']\r\n",
        "\r\n",
        "# write code to get the 5 words most similar to the words in search_terms\r\n",
        "similar_words = {term: [idx2word[idx] for idx in (-1 * similarity_matrix[word2idx[term]-1]).argsort()[1:6] + 1] for term in search_terms}\r\n",
        "\r\n",
        "print(similar_words)"
      ],
      "execution_count": 32,
      "outputs": [
        {
          "output_type": "stream",
          "text": [
            "{'family': ['nephew', 'talents', 'forgave', 'submissively', 'kicked'], 'love': ['writing', 'laundry', 'several', 'excite', 'congratulations'], 'equality': ['short', 'lot', 'conducted', 'worded', 'excepted'], 'wisdom': ['anticipate', 'crossness', 'worded', 'topic', 'heedless'], 'justice': ['addition', 'auspices', 'signify', 'kingham', 'stupidest'], 'humour': ['hilarity', 'dissimilar', 'ablest', 'random', 'sweetbread'], 'rejection': ['roads', 'topic', 'betweens', 'unsullied', 'conferred']}\n"
          ],
          "name": "stdout"
        }
      ]
    },
    {
      "cell_type": "markdown",
      "metadata": {
        "id": "5I_X9W-vGXiZ"
      },
      "source": [
        "**B. Plot the words in the dictionary above using t-SNE**\r\n",
        "\r\n",
        "Plot 50 of the word embeddings using the code snippets below:\r\n",
        "\r\n",
        "\r\n",
        "\r\n",
        "\r\n",
        "\r\n",
        "\r\n",
        "\r\n",
        "\r\n",
        "\r\n",
        "\r\n",
        "\r\n"
      ]
    },
    {
      "cell_type": "code",
      "metadata": {
        "colab": {
          "base_uri": "https://localhost:8080/",
          "height": 483
        },
        "id": "FMnyCjS4cnb8",
        "outputId": "0f6bfc98-1aa6-4ed7-86ac-80052f5469d1"
      },
      "source": [
        "from sklearn.manifold import TSNE\r\n",
        "import matplotlib.pyplot as plt\r\n",
        "\r\n",
        "tsne = TSNE(perplexity=3, n_components=2, init='pca', n_iter=5000, method='exact')\r\n",
        "np.set_printoptions(suppress=True)\r\n",
        "plot_only = 50 \r\n",
        "\r\n",
        "T = tsne.fit_transform(word_embeddings[:plot_only, :])\r\n",
        "labels = [idx2word[i+1] for i in range(plot_only)]\r\n",
        "plt.figure(figsize=(14, 8))\r\n",
        "plt.scatter(T[:, 0], T[:, 1])\r\n",
        "for label, x, y in zip(labels, T[:, 0], T[:, 1]):\r\n",
        "    plt.annotate(label, xy=(x+1, y+1), xytext=(0, 0), textcoords='offset points', ha='right', va='bottom')                      \t                        \r\n",
        "\r\n"
      ],
      "execution_count": 33,
      "outputs": [
        {
          "output_type": "display_data",
          "data": {
            "image/png": "[encoded data removed]",
            "text/plain": [
              "<Figure size 1008x576 with 1 Axes>"
            ]
          },
          "metadata": {
            "tags": [],
            "needs_background": "light"
          }
        }
      ]
    }
  ]
}